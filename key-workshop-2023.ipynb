{
 "cells": [
  {
   "cell_type": "markdown",
   "id": "abf27186-1256-4e6e-8f08-06a4c7e2c857",
   "metadata": {
    "slideshow": {
     "slide_type": "slide"
    },
    "tags": []
   },
   "source": [
    "# Key Workshop 2023"
   ]
  },
  {
   "cell_type": "markdown",
   "id": "cc856f63-ef2e-4da7-bc78-fbd00623a416",
   "metadata": {
    "tags": []
   },
   "source": [
    "## In this workshop\n",
    "\n",
    "- importing data and pre-processing for analysis\n",
    "- key techniques\n",
    "- inverted tables\n",
    "- batch processing\n"
   ]
  },
  {
   "cell_type": "markdown",
   "id": "67308b04-e9a8-4383-b89d-0d0f8e243381",
   "metadata": {
    "slideshow": {
     "slide_type": "notes"
    },
    "tags": []
   },
   "source": [
    "---"
   ]
  },
  {
   "cell_type": "markdown",
   "id": "c45cffee-6064-42fb-9414-003e4e23d3d7",
   "metadata": {
    "slideshow": {
     "slide_type": "slide"
    },
    "tags": []
   },
   "source": [
    "## Importing data\n",
    "- Not specified in problem statement\n",
    "- In the session: can use `]Get` (v18.2)"
   ]
  },
  {
   "cell_type": "code",
   "execution_count": 3,
   "id": "0d8bf20d-e524-4716-b332-01a2e119636e",
   "metadata": {
    "slideshow": {
     "slide_type": "subslide"
    },
    "tags": []
   },
   "outputs": [
    {
     "data": {
      "text/html": [
       "<pre class=\"language-APL\">#.order_data\n",
       "</pre>"
      ]
     },
     "execution_count": 3,
     "metadata": {},
     "output_type": "execute_result"
    },
    {
     "data": {
      "text/html": [
       "<pre class=\"language-APL\">┌──┬───────────────────┬─────────┬─────┬───────┬──────────┐\n",
       "│id│timestamp          │city     │state│payment│category  │\n",
       "├──┼───────────────────┼─────────┼─────┼───────┼──────────┤\n",
       "│1 │2017-10-02 10:56:33│sao paulo│SP   │18.12  │housewares│\n",
       "├──┼───────────────────┼─────────┼─────┼───────┼──────────┤\n",
       "│2 │2018-07-24 20:41:37│barreiras│BA   │141.46 │perfumery │\n",
       "└──┴───────────────────┴─────────┴─────┴───────┴──────────┘\n",
       "</pre>"
      ]
     },
     "execution_count": 3,
     "metadata": {},
     "output_type": "execute_result"
    }
   ],
   "source": [
    "]get ./order_data.csv\n",
    "3↑order_data"
   ]
  },
  {
   "cell_type": "code",
   "execution_count": 51,
   "id": "28df7b16-2484-4a38-b040-ed3a10f0185b",
   "metadata": {
    "slideshow": {
     "slide_type": "notes"
    },
    "tags": [
     "remove_cell"
    ]
   },
   "outputs": [],
   "source": [
    "⎕PW←3000"
   ]
  },
  {
   "cell_type": "code",
   "execution_count": 52,
   "id": "ce49824b-4d4d-4b2b-b201-12c9466258d0",
   "metadata": {
    "slideshow": {
     "slide_type": "subslide"
    },
    "tags": []
   },
   "outputs": [
    {
     "data": {
      "text/html": [
       "<pre class=\"language-APL\">18.12 141.46 179.12 72.2 28.62 175.26 75.16 35.95 161.42 259.06 114.13 50.13 32.7 54.36 146.45 1376.45 43.09 29.75 62.15 118.86 88.9 17.28 187.57 104.11 125.43 227.68 60.69 192.68 63.34\n",
       "</pre>"
      ]
     },
     "execution_count": 52,
     "metadata": {},
     "output_type": "execute_result"
    }
   ],
   "source": [
    "1↓30↑order_data[;5]"
   ]
  },
  {
   "cell_type": "markdown",
   "id": "ac97741f-bda6-44b3-bdf6-5bd6fbc2bf62",
   "metadata": {
    "slideshow": {
     "slide_type": "notes"
    },
    "tags": []
   },
   "source": [
    "---"
   ]
  },
  {
   "cell_type": "markdown",
   "id": "45a79ba7-bb63-4471-9ecd-55c327daba4e",
   "metadata": {
    "slideshow": {
     "slide_type": "slide"
    },
    "tags": []
   },
   "source": [
    "### `⎕CSV`\n",
    "How can we import numeric data as numbers?"
   ]
  },
  {
   "cell_type": "code",
   "execution_count": 8,
   "id": "a088cafc-4ecc-4596-ba18-58e3e5c7f5be",
   "metadata": {
    "slideshow": {
     "slide_type": "notes"
    },
    "tags": []
   },
   "outputs": [
    {
     "data": {
      "text/html": [
       "<pre class=\"language-APL\">18.12 141.46 179.12 72.2 28.62 175.26 75.16 35.95 161.42 259.06 114.13 50.13 32.7 54.36 146.45 1376.45 43.09 29.75 62.15 1\n",
       "      18.86 88.9 17.28 187.57 104.11 125.43 227.68 60.69 192.68 63.34\n",
       "</pre>"
      ]
     },
     "execution_count": 8,
     "metadata": {},
     "output_type": "execute_result"
    }
   ],
   "source": [
    "1↓30↑5(⌷⍤1)⎕CSV 'order_data.csv' ⍬ 4"
   ]
  },
  {
   "cell_type": "markdown",
   "id": "a9910140-f2ae-48b2-974b-3bb9e0b07ac7",
   "metadata": {
    "slideshow": {
     "slide_type": "subslide"
    },
    "tags": []
   },
   "source": [
    "**Question:** When is `⎕CSV path ⍬ 4` dangerous?"
   ]
  },
  {
   "cell_type": "markdown",
   "id": "b5bbfe20-f556-482e-ba03-ff7986a03853",
   "metadata": {
    "slideshow": {
     "slide_type": "subslide"
    },
    "tags": []
   },
   "source": [
    "- Numeric \"codes\" e.g. US zip codes\n",
    "- Telephone numbers\n",
    "- Hexadecimal `12E056`\n",
    "\n",
    "Safer to use full description.  \n",
    "`⎕CSV path ⍬ (2 1 1 1 2 1)`  "
   ]
  },
  {
   "cell_type": "code",
   "execution_count": 9,
   "id": "1d69e1f8-da44-4a11-a32d-1341fc630093",
   "metadata": {
    "slideshow": {
     "slide_type": "subslide"
    },
    "tags": []
   },
   "outputs": [
    {
     "data": {
      "text/html": [
       "<pre class=\"language-APL\">'id' 'timestamp' 'city' 'state' 'payment' 'category'\n",
       "</pre>"
      ]
     },
     "execution_count": 9,
     "metadata": {},
     "output_type": "execute_result"
    }
   ],
   "source": [
    "]repr 1⌷order_data"
   ]
  },
  {
   "cell_type": "markdown",
   "id": "438dc939-2e61-4dc3-9862-fb4a3fa98e5d",
   "metadata": {
    "tags": []
   },
   "source": [
    "**Exercise**\n",
    "\n",
    "Given a known `col_spec` mapping matrix:\n",
    "\n",
    "```\n",
    "path←'/path/to/order_data.csv'\n",
    "col_spec←⍪'payment' 'id' 'city' 'state' 'category' 'timestamp'\n",
    "col_spec,← 2         2    1      1       1          1\n",
    "```\n",
    "\n",
    "We want to write a function with this syntax:\n",
    "\n",
    "```\n",
    "(data header)←col_spec ReadOrderData path\n",
    "```"
   ]
  },
  {
   "cell_type": "markdown",
   "id": "0b13ee27-dfca-4f33-8236-ba8ff9c7876b",
   "metadata": {
    "slideshow": {
     "slide_type": "subslide"
    },
    "tags": []
   },
   "source": [
    "Reading the header:\n",
    "\n",
    "```APL\n",
    "tn←'order_data.csv' ⎕ntie 0\n",
    "(_ header)←⎕CSV ⎕OPT'Records' 1⊢tn ⍬ 1 1\n",
    "⎕nuntie tn\n",
    "```"
   ]
  },
  {
   "cell_type": "code",
   "execution_count": null,
   "id": "bb0146b6-b161-49fa-a57f-b335e8a9425f",
   "metadata": {
    "slideshow": {
     "slide_type": "skip"
    },
    "tags": [
     "remove_cell"
    ]
   },
   "outputs": [],
   "source": [
    "tn←'order_data.csv' ⎕ntie 0\n",
    "(_ header)←⎕CSV ⎕OPT'Records' 1⊢tn ⍬ 1 1\n",
    "col_types ← ((⊢/col_spec),1)[(⊣/col_spec)⍳header]   ⍝ Mapping between actual column order and column type specification\n",
    "data←⎕CSV tn ⍬ col_types\n",
    "⎕nuntie tn"
   ]
  },
  {
   "cell_type": "markdown",
   "id": "b42dcae4-471e-4d8d-906a-69e2716416a9",
   "metadata": {
    "slideshow": {
     "slide_type": "notes"
    },
    "tags": []
   },
   "source": [
    "---"
   ]
  },
  {
   "cell_type": "markdown",
   "id": "0016a2f3-420f-47aa-bfb9-2d0c10b7c55c",
   "metadata": {
    "slideshow": {
     "slide_type": "slide"
    },
    "tags": []
   },
   "source": [
    "### Date times\n",
    "Were provided as `YYYY-MM-DD hh:mm:ss`.\n",
    "\n",
    "Some extracted year and month as text. Some extracted integer numbers.\n",
    "\n",
    "**Exercise:** Convert `YYYY-MM-DD hh:mm:ss` into `¯1↓⎕TS`-style numeric timestamp.\n",
    "\n",
    "- For a simple timestamp vector, return a simple numeric vector.\n",
    "- For a nested list of timestamp vectors, return a nested list of numeric vectors."
   ]
  },
  {
   "cell_type": "code",
   "execution_count": 56,
   "id": "c4530860-cc49-4363-9853-aac8300c011d",
   "metadata": {
    "slideshow": {
     "slide_type": "notes"
    },
    "tags": [
     "remove_cell"
    ]
   },
   "outputs": [],
   "source": [
    "Timestamp2TS←{⊃⍣(1=≡⍵)⊢2⊃¨'- :'∘⎕VFI¨⊆⍵}"
   ]
  },
  {
   "cell_type": "code",
   "execution_count": 57,
   "id": "47e26879-4b9b-4412-9055-800d95b3901f",
   "metadata": {
    "slideshow": {
     "slide_type": "notes"
    },
    "tags": [
     "remove_cell"
    ]
   },
   "outputs": [
    {
     "data": {
      "text/html": [
       "<pre class=\"language-APL\">6\n",
       "</pre>"
      ]
     },
     "execution_count": 57,
     "metadata": {},
     "output_type": "execute_result"
    },
    {
     "data": {
      "text/html": [
       "<pre class=\"language-APL\">5\n",
       "</pre>"
      ]
     },
     "execution_count": 57,
     "metadata": {},
     "output_type": "execute_result"
    }
   ],
   "source": [
    "(data cols)←⎕CSV 'order_data.csv' ⍬ 4 1\n",
    "⍴Timestamp2TS ⊃data[;2]\n",
    "⍴Timestamp2TS 5↑data[;2]"
   ]
  },
  {
   "cell_type": "code",
   "execution_count": 63,
   "id": "86f5520d-b4d4-4ece-8d74-ec516fe22d70",
   "metadata": {
    "slideshow": {
     "slide_type": "notes"
    },
    "tags": [
     "remove_cell"
    ]
   },
   "outputs": [
    {
     "data": {
      "text/html": [
       "<pre class=\"language-APL\">2017 10 2 10 56 33\n",
       "</pre>"
      ]
     },
     "execution_count": 63,
     "metadata": {},
     "output_type": "execute_result"
    },
    {
     "data": {
      "text/html": [
       "<pre class=\"language-APL\">┌──────────────────┬──────────────────┬────────────────┐\n",
       "│2017 10 2 10 56 33│2018 7 24 20 41 37│2018 8 8 8 38 49│\n",
       "└──────────────────┴──────────────────┴────────────────┘\n",
       "</pre>"
      ]
     },
     "execution_count": 63,
     "metadata": {},
     "output_type": "execute_result"
    }
   ],
   "source": [
    "{⊃⍣(1=≡⍵)(⍎¨∊∘⎕D⊆⊢)¨⊆⍵} ⊃data[;2]\n",
    "{1=≡⍵:⍎¨(⍵∊⎕D)⊆⍵ ⋄ ∇¨⍵} 3↑data[;2]\n",
    "⍝ Possible future extension?\n",
    "⍝ (⍎¨∊∘⎕D⊆⊢)⍥1"
   ]
  },
  {
   "cell_type": "code",
   "execution_count": 74,
   "id": "1ad01464-e440-4dc2-ae7e-169c196aa838",
   "metadata": {
    "slideshow": {
     "slide_type": "notes"
    },
    "tags": [
     "remove_cell"
    ]
   },
   "outputs": [
    {
     "data": {
      "text/html": [
       "<pre class=\"language-APL\">1\n",
       "</pre>"
      ]
     },
     "execution_count": 74,
     "metadata": {},
     "output_type": "execute_result"
    },
    {
     "data": {
      "text/html": [
       "<pre class=\"language-APL\">5\n",
       "</pre>"
      ]
     },
     "execution_count": 74,
     "metadata": {},
     "output_type": "execute_result"
    }
   ],
   "source": [
    "Timestamp2TS←{↓⎕CSV((,¨'- :')⎕R','⊆⍵)'N'4}\n",
    "⍴Timestamp2TS ⊃data[;2]\n",
    "⍴Timestamp2TS 5↑data[;2]"
   ]
  },
  {
   "cell_type": "markdown",
   "id": "5946cfe1-77b4-47ff-83c9-fc0a2fd70377",
   "metadata": {
    "slideshow": {
     "slide_type": "subslide"
    },
    "tags": []
   },
   "source": [
    "#### What is the purpose of these expressions? What are their edge cases?\n",
    "\n",
    "```\n",
    "a) ⊂⍣(1=≡⍵)⊢⍵\n",
    "b) ↓↑⍵\n",
    "c) (1+80=⎕DR ⍵)⊃⍵(⊂⍵)\n",
    "```"
   ]
  },
  {
   "cell_type": "code",
   "execution_count": 84,
   "id": "0a525090-01d2-4391-ba52-3bf8a2ca8445",
   "metadata": {
    "slideshow": {
     "slide_type": "notes"
    },
    "tags": [
     "remove_cell"
    ]
   },
   "outputs": [
    {
     "data": {
      "text/html": [
       "<pre class=\"language-APL\">┌──┬──┐\n",
       "│SP│GT│\n",
       "└──┴──┘\n",
       "</pre>"
      ]
     },
     "execution_count": 84,
     "metadata": {},
     "output_type": "execute_result"
    },
    {
     "data": {
      "text/html": [
       "<pre class=\"language-APL\">┌──┐\n",
       "│SP│\n",
       "└──┘\n",
       "</pre>"
      ]
     },
     "execution_count": 84,
     "metadata": {},
     "output_type": "execute_result"
    },
    {
     "data": {
      "text/html": [
       "<pre class=\"language-APL\">┌──┐\n",
       "│SP│\n",
       "└──┘\n",
       "</pre>"
      ]
     },
     "execution_count": 84,
     "metadata": {},
     "output_type": "execute_result"
    },
    {
     "data": {
      "text/html": [
       "<pre class=\"language-APL\">S\n",
       "</pre>"
      ]
     },
     "execution_count": 84,
     "metadata": {},
     "output_type": "execute_result"
    }
   ],
   "source": [
    "{,⍤⊂⍣(1≥|≡⍵)⊢⍵}'SP' 'GT'\n",
    "{,⍤⊂⍣(1=≡,⍵)⊢⍵}'SP'\n",
    "{(1+1=≡,⍵)⊃⍵(,⊂⍵)}'SP'\n",
    "\n",
    "{⊂⍣(1=≡⍵)⊢⍵}'S'"
   ]
  },
  {
   "cell_type": "code",
   "execution_count": 79,
   "id": "6b70d7e6-e888-40d9-9c35-8df0ef9c9b75",
   "metadata": {
    "slideshow": {
     "slide_type": "notes"
    },
    "tags": [
     "remove_cell"
    ]
   },
   "outputs": [
    {
     "data": {
      "text/html": [
       "<pre class=\"language-APL\">┌───┬───┬───┐\n",
       "│SP │RDJ│BR │\n",
       "└───┴───┴───┘\n",
       "</pre>"
      ]
     },
     "execution_count": 79,
     "metadata": {},
     "output_type": "execute_result"
    }
   ],
   "source": [
    "↓↑'SP' 'RDJ' 'BR'"
   ]
  },
  {
   "cell_type": "code",
   "execution_count": 83,
   "id": "f5e8204f-13a0-4362-9f54-3e670d93001c",
   "metadata": {
    "slideshow": {
     "slide_type": "notes"
    },
    "tags": [
     "remove_cell"
    ]
   },
   "outputs": [
    {
     "data": {
      "text/html": [
       "<pre class=\"language-APL\">İstanbul\n",
       "</pre>"
      ]
     },
     "execution_count": 83,
     "metadata": {},
     "output_type": "execute_result"
    }
   ],
   "source": [
    "{(1+80=⎕DR ⍵)⊃⍵(⊂⍵)} 'İstanbul'"
   ]
  },
  {
   "cell_type": "markdown",
   "id": "188eb0ca-2b18-401b-8702-96508daaebd9",
   "metadata": {
    "slideshow": {
     "slide_type": "subslide"
    },
    "tags": []
   },
   "source": [
    "The subtle fiddliness of scalar/1-elem vector/vector/1-row matrix is a bit pedantic. Just remember to be consistent and document expected arguments and results."
   ]
  },
  {
   "cell_type": "markdown",
   "id": "0c0a5777-68cc-4978-9e30-7800096f9565",
   "metadata": {
    "slideshow": {
     "slide_type": "notes"
    },
    "tags": []
   },
   "source": [
    "---"
   ]
  },
  {
   "cell_type": "markdown",
   "id": "993605e4-b52a-4dfb-9ec2-5aa9a9467fb5",
   "metadata": {
    "slideshow": {
     "slide_type": "slide"
    },
    "tags": []
   },
   "source": [
    "## Aggregating data\n",
    "The main problem:\n",
    "\n",
    "- select relevant columns (keys)\n",
    "- apply aggregate function on keys\n",
    "- ensure correct ordering and shape of result"
   ]
  },
  {
   "cell_type": "markdown",
   "id": "2987770c-11df-4b71-b148-ffcf93dc71bb",
   "metadata": {
    "slideshow": {
     "slide_type": "subslide"
    },
    "tags": []
   },
   "source": [
    "Payment per state\n",
    "\n",
    "Write a function `PaymentPerState` which:\n",
    "- accepts a nested vector of character vectors of state codes\n",
    "- returns the total payment in each given state across the whole dataset.\n",
    "\n",
    "```\n",
    "      PaymentPerState 'GO' 'TO' 'SC'\n",
    "319766.98 58068.18 579297.8\n",
    "```"
   ]
  },
  {
   "cell_type": "markdown",
   "id": "270e72b7-4acc-4032-b3fa-a23a181ec092",
   "metadata": {
    "slideshow": {
     "slide_type": "subslide"
    },
    "tags": []
   },
   "source": [
    "**Exercise:** Spot the errors  \n",
    "This code is problematic. What issues can you spot?\n",
    "\n",
    "```APL\n",
    "PPS←{\n",
    "     sp ← (⊂cols⍳'state' 'payment') (⌷⍤1) data     \n",
    "     sp ⌿⍨← (⊣/sp)∊⍵\n",
    "     (⊣/sp) {+/⍵}⌸ (⊢/sp)\n",
    " }\n",
    "```"
   ]
  },
  {
   "cell_type": "markdown",
   "id": "7d06a418-4244-4962-8f59-6e535e1db422",
   "metadata": {
    "slideshow": {
     "slide_type": "notes"
    },
    "tags": [
     "remove_cell"
    ]
   },
   "source": [
    "1. Valid state missing in data set\n",
    "1. Data with keys in order found in data, rather than order of `⍵`\n",
    "\n",
    "Several ways to mitigate each."
   ]
  },
  {
   "cell_type": "markdown",
   "id": "45180ef6-2995-47f6-9d6f-8ef9743338ba",
   "metadata": {
    "slideshow": {
     "slide_type": "subslide"
    },
    "tags": []
   },
   "source": [
    "**Exercise:** Fix the issues with `PPS`\n",
    "\n",
    "```APL\n",
    "PPS←{\n",
    "     sp ← (⊂cols⍳'state' 'payment') (⌷⍤1) data     \n",
    "     sp ⌿⍨← (⊣/sp)∊⍵\n",
    "     (⊣/sp) {+/⍵}⌸ (⊢/sp)\n",
    " }\n",
    "```\n",
    "\n",
    "1. Prepend data and keys with fill and dictionary\n",
    "1. Use a lookup `⍺⍳⍵` after `⌸`"
   ]
  },
  {
   "cell_type": "markdown",
   "id": "a0c90f73-54f8-4e98-a89b-6f67d38be17a",
   "metadata": {
    "slideshow": {
     "slide_type": "notes"
    },
    "tags": [
     "remove_cell"
    ]
   },
   "source": [
    "```APL\n",
    "PPS←{\n",
    "     sp ← (⊂cols⍳'state' 'payment') (⌷⍤1) data     \n",
    "     sp ⌿⍨← (⊣/sp)∊⍵\n",
    "     (⍵,⊣/sp) {+/⍵}⌸ (-⍵+⍥≢sp)↑(⊢/sp)\n",
    " }\n",
    "```"
   ]
  },
  {
   "cell_type": "markdown",
   "id": "24074ce8-daec-48a7-96ab-bc7649e4f4c2",
   "metadata": {
    "slideshow": {
     "slide_type": "notes"
    },
    "tags": [
     "remove_cell"
    ]
   },
   "source": [
    "```APL\n",
    "PPS←{\n",
    "     sp ← (⊂cols⍳'state' 'payment') (⌷⍤1) data     \n",
    "     sp ⌿⍨← (⊣/sp)∊⍵\n",
    "     (gs tot) ←↓⍉ (⊣/sp) {⍺,+/⍵}⌸ (⊢/sp)\n",
    "     tot[gs⍳⍵]\n",
    " }\n",
    "```"
   ]
  },
  {
   "cell_type": "markdown",
   "id": "c9e9a523-3422-43ae-878d-e15314d78926",
   "metadata": {
    "slideshow": {
     "slide_type": "notes"
    },
    "tags": []
   },
   "source": [
    "**Note:** Performance of `('state' From cols) ∊ states`\n",
    "\n",
    "- Filtering may be improved by pre-computing numeric \"IDs\", but lookup still required\n",
    "- Lookup may be improved by using inverted tables\n",
    "- Ultimately a storage / database issue\n",
    "- Admittedly this problem is more a \"quick analysis\" than suited to industrial-strength processing"
   ]
  },
  {
   "cell_type": "markdown",
   "id": "412c94c4-3bfe-4f70-9c0f-766f7724610c",
   "metadata": {
    "slideshow": {
     "slide_type": "notes"
    },
    "tags": [
     "remove_cell"
    ]
   },
   "source": [
    "```\n",
    "]runtime -c \"s ∊ 'SP' 'BA'\" \"InStates'SP' 'BA'\" \"sid∊(s⍳'SP' 'BA')\" \"{(≢⍵)≥sm⍳⍨↑⍵}'SP' 'BA'\"\n",
    "```"
   ]
  },
  {
   "cell_type": "markdown",
   "id": "d903bd26-4916-4ace-aaa6-40f25c0c70b0",
   "metadata": {
    "slideshow": {
     "slide_type": "notes"
    },
    "tags": []
   },
   "source": [
    "---"
   ]
  },
  {
   "cell_type": "markdown",
   "id": "f2d19966-35c7-4420-8ee8-79f1ce905b52",
   "metadata": {
    "slideshow": {
     "slide_type": "slide"
    },
    "tags": []
   },
   "source": [
    "### Grouping by date-time / computing intervals\n",
    "Problems `PaymentPerMonth` and `PaymentPerQuarter` allowed for different approaches:\n",
    "\n",
    "- Modular approach / code re-use\n",
    "- Directly compute quarter intervals\n",
    "\n",
    "**Exercise 1:** Given `ppm←PaymentPerMonth states`, how can we compute `ppq←PaymentPerQuarter`?\n",
    "\n",
    "**Exercise 2:** Given numeric months `1...12`, return corresponding quarters `1...4`"
   ]
  },
  {
   "cell_type": "markdown",
   "id": "f69e2b8d-c1da-451d-b32e-8ed41253c559",
   "metadata": {
    "slideshow": {
     "slide_type": "notes"
    },
    "tags": [
     "remove_cell"
    ]
   },
   "source": [
    "**Correction:** note about result orientation (transpose) of `ppm/ppq`."
   ]
  },
  {
   "cell_type": "code",
   "execution_count": 85,
   "id": "a6aee5be-399e-4fe5-80dc-0c60bfb82d47",
   "metadata": {
    "slideshow": {
     "slide_type": "notes"
    },
    "tags": [
     "remove_cell"
    ]
   },
   "outputs": [],
   "source": [
    "⍝ +/¨(3/⍳4)⊂ppm\n",
    "⍝ +/{((≢⍵),4 3)⍴⍵}ppm\n",
    "⍝ ]runtime -c \"+/¨(3/⍳4)⊆ppm\" \"{+/4 3(⍴⍤1)⍵}ppm\" \"{+/((¯1↓⍴⍵),4 3)⍴⍵}ppm\""
   ]
  },
  {
   "cell_type": "code",
   "execution_count": 86,
   "id": "b0f75b06-1614-440e-83e1-c86dddc3f37c",
   "metadata": {
    "slideshow": {
     "slide_type": "notes"
    },
    "tags": [
     "remove_cell"
    ]
   },
   "outputs": [],
   "source": [
    "⍝ +\\1=3|m\n",
    "⍝ ⌈3÷⍨\n",
    "⍝ +⌿4 7 10∘.≤m\n",
    "⍝ 4 7 10⍸m"
   ]
  },
  {
   "cell_type": "markdown",
   "id": "40f12c69-3e57-42ee-a73e-f33830571276",
   "metadata": {
    "slideshow": {
     "slide_type": "subslide"
    },
    "tags": []
   },
   "source": [
    "**Exercise:** Write the function `PaymentsBetween` which:\n",
    "\n",
    "- `⍵:` takes as argument a nested vector of character vectors `(1=≢⍴⍵)∧(2=≡⍵)` of dates from oldest (1st element) to most recent (last element)\n",
    "- `←:` returns a vector of length (`¯1+≢⍵`) of total payments between dates specified"
   ]
  }
 ],
 "metadata": {
  "kernelspec": {
   "display_name": "Dyalog APL",
   "language": "apl",
   "name": "dyalog-kernel"
  },
  "language_info": {
   "file_extension": ".apl",
   "mimetype": "text/apl",
   "name": "APL"
  }
 },
 "nbformat": 4,
 "nbformat_minor": 5
}
